{
  "nbformat": 4,
  "nbformat_minor": 0,
  "metadata": {
    "colab": {
      "provenance": [],
      "authorship_tag": "ABX9TyMQ5CHqIspJ8bFoGMpuYC7u",
      "include_colab_link": true
    },
    "kernelspec": {
      "name": "python3",
      "display_name": "Python 3"
    },
    "language_info": {
      "name": "python"
    }
  },
  "cells": [
    {
      "cell_type": "markdown",
      "metadata": {
        "id": "view-in-github",
        "colab_type": "text"
      },
      "source": [
        "<a href=\"https://colab.research.google.com/github/AndresToro0023/Gestion-y-Almacenamiento-de-Datos/blob/main/Proyecto_BD_SQL.ipynb\" target=\"_parent\"><img src=\"https://colab.research.google.com/assets/colab-badge.svg\" alt=\"Open In Colab\"/></a>"
      ]
    },
    {
      "cell_type": "code",
      "source": [
        "from traitlets.traitlets import Container\n",
        "import sqlite3 as sql\n",
        "import pandas as pd"
      ],
      "metadata": {
        "id": "tdzZJ9OW_y5k"
      },
      "execution_count": null,
      "outputs": []
    },
    {
      "cell_type": "code",
      "execution_count": null,
      "metadata": {
        "colab": {
          "base_uri": "https://localhost:8080/"
        },
        "id": "J9OtHotX_V6l",
        "outputId": "c1d21b3e-f035-4c6c-e911-fff197964288"
      },
      "outputs": [
        {
          "output_type": "stream",
          "name": "stdout",
          "text": [
            "Drive already mounted at /content/drive; to attempt to forcibly remount, call drive.mount(\"/content/drive\", force_remount=True).\n"
          ]
        }
      ],
      "source": [
        "from google.colab import drive\n",
        "drive.mount('/content/drive')"
      ]
    },
    {
      "cell_type": "code",
      "source": [
        "df = pd.read_csv(\"/content/pjm_hourly_est1.csv\", header = 0)\n",
        "df = pd.DataFrame(df)\n"
      ],
      "metadata": {
        "id": "4djqBlWK_3i7"
      },
      "execution_count": null,
      "outputs": []
    },
    {
      "cell_type": "code",
      "source": [
        "def createDB():\n",
        "  conn = sql.connect(\"Clase.db\") #.connect si no existe la base de datos la crea\n",
        "  conn.commit()\n",
        "  conn.close()\n",
        "  print(\"Cree la base de datos\")\n",
        "\n",
        "def tableDB():\n",
        "  conn = sql.connect(\"Clase.db\")\n",
        "  cursor = conn.cursor()\n",
        "  cursor.execute(\"\"\"CREATE TABLE Consumo_Estados_MW(\n",
        "    id INT,\n",
        "    Datetime TXT,\n",
        "    Year INT,\n",
        "    Month INT,\n",
        "    Day INT,\n",
        "    Hour INT,\n",
        "    AEP TXT,\n",
        "    COMED TXT,\n",
        "    DAYTON TXT,\n",
        "    DEOK TXT,\n",
        "    DOM TXT,\n",
        "    DUQ TXT,\n",
        "    EKPC TXT,\n",
        "    FE TXT,\n",
        "    NI TXT,\n",
        "    PJME TXT,\n",
        "    PJMW TXT\n",
        "  );\n",
        "  \"\"\")\n",
        "  conn.commit()\n",
        "  conn.close()\n",
        "  print(\"Cree la tabla\")\n",
        "\n",
        "def insertRow(list):\n",
        "  conn = sql.connect(\"Clase.db\")\n",
        "  cursor = conn.cursor()\n",
        "  query =f\"INSERT INTO Consumo_Estados_MW VALUES (?,?,?,?,?,?,?,?,?,?,?,?,?,?,?,?,?);\"\n",
        "  cursor.executemany(query,list)\n",
        "  conn.commit()\n",
        "  conn.close()\n",
        "  print(\"Agrege varios registros de Consumo \")\n",
        "\n",
        "def selectRows(field):\n",
        "  conn = sql.connect(\"Clase.db\")\n",
        "  cursor = conn.cursor()\n",
        "  query = f\"SELECT * FROM Consumo_Estados_MW ORDER By {field} DESC LIMIT 20;\" #field seleccionar columna para odenar\n",
        "  cursor.execute(query)\n",
        "  datos = cursor.fetchall() #.fetchall() traer todo lo de SQL a Phython\n",
        "  conn.commit()\n",
        "  print(datos)\n",
        "  conn.close()\n",
        "\n",
        "def countRows(field):\n",
        "  conn = sql.connect(\"Clase.db\")\n",
        "  cursor = conn.cursor()\n",
        "  query = f\"SELECT count(*) AS {field} FROM Consumo_Estados_MW;\"\n",
        "  cursor.execute(query)\n",
        "  datos = cursor.fetchall() #.fetchall() traer todo lo de SQL a Phython\n",
        "  conn.commit()\n",
        "  print(datos)\n",
        "  conn.close()\n",
        "\n",
        "def delete():\n",
        "  conn = sql.connect(\"Clase.db\")\n",
        "  cursor = conn.cursor()\n",
        "  query = f\"DELETE FROM Consumo_Estados_MW WHERE Year like 2006;\"\n",
        "  cursor.execute(query)\n",
        "  conn.commit()\n",
        "  conn.close()\n",
        "  print(\"registro borrado\")\n"
      ],
      "metadata": {
        "id": "lb2oCIKj_3dE"
      },
      "execution_count": null,
      "outputs": []
    },
    {
      "cell_type": "code",
      "source": [
        "if __name__==\"__main__\":\n",
        "  createDB()\n",
        "  tableDB()"
      ],
      "metadata": {
        "colab": {
          "base_uri": "https://localhost:8080/"
        },
        "id": "Ddo6zJLSFo8D",
        "outputId": "fdcd86db-5ef6-4b39-e938-4e9b449606b9"
      },
      "execution_count": null,
      "outputs": [
        {
          "output_type": "stream",
          "name": "stdout",
          "text": [
            "Cree la base de datos\n",
            "Cree la tabla\n"
          ]
        }
      ]
    },
    {
      "cell_type": "code",
      "source": [
        "lista = df.to_numpy().tolist()\n",
        "if __name__==\"__main__\":\n",
        "  insertRow(lista)"
      ],
      "metadata": {
        "colab": {
          "base_uri": "https://localhost:8080/"
        },
        "id": "ypWv7ZP9HHMi",
        "outputId": "ee7b0d2c-d2ea-4f01-daa8-1ae2cefb1e1f"
      },
      "execution_count": null,
      "outputs": [
        {
          "output_type": "stream",
          "name": "stdout",
          "text": [
            "Agrege varios registros de Consumo \n"
          ]
        }
      ]
    },
    {
      "cell_type": "code",
      "source": [
        "# MOSTRAR 10 REGISTROS FILTRADOS POR COLUMNA AEP\n",
        "if __name__==\"__main__\":\n",
        "  selectRows('AEP')"
      ],
      "metadata": {
        "colab": {
          "base_uri": "https://localhost:8080/"
        },
        "id": "iF_xB92qH2OU",
        "outputId": "8fcc8430-c6fd-4a33-a4c3-696022ce5505"
      },
      "execution_count": null,
      "outputs": [
        {
          "output_type": "stream",
          "name": "stdout",
          "text": [
            "[(87208, '2008-10-20 14:00:00', 2008, 10, 20, 14, 25695, 12438.949115842655, 2175, 3373.998753117207, 9864, 1680, 1518.4955002646902, 8499.297328244274, 11936, 32004, 5368), (80203, '2007-08-08 15:00:00', 2007, 8, 8, 15, 25164, 12540.006495849871, 3746, 3385.237738985869, 19399, 2859, 1521.1561672842774, 8473.375954198473, 20289, 58703, 8611), (80205, '2007-08-08 17:00:00', 2007, 8, 8, 17, 25140, 12573.493323709852, 3724, 3417.569409808811, 19709, 2861, 1568.31180518793, 8465.820992366413, 19756, 58996, 8466), (80204, '2007-08-08 16:00:00', 2007, 8, 8, 16, 25056, 12559.719956694336, 3741, 3395.002493765586, 19689, 2873, 1533.0010587612494, 8441.172137404581, 20318, 59437, 8596), (80181, '2007-08-09 17:00:00', 2007, 8, 9, 17, 25035, 12573.493323709852, 3655, 3417.569409808811, 17824, 2037, 1568.31180518793, 8465.820992366413, 18989, 49359, 7251), (80180, '2007-08-09 16:00:00', 2007, 8, 9, 16, 24978, 12559.719956694336, 3658, 3395.002493765586, 18129, 2004, 1533.0010587612494, 8441.172137404581, 18978, 50217, 7507), (80202, '2007-08-08 14:00:00', 2007, 8, 8, 14, 24941, 12438.949115842655, 3712, 3373.998753117207, 19210, 2813, 1518.4955002646902, 8499.297328244274, 19859, 57885, 8503), (80179, '2007-08-09 15:00:00', 2007, 8, 9, 15, 24911, 12540.006495849871, 3724, 3385.237738985869, 18519, 2565, 1521.1561672842774, 8473.375954198473, 18911, 51159, 7719), (80206, '2007-08-08 18:00:00', 2007, 8, 8, 18, 24878, 12708.983038614218, 3676, 3459.7152950955942, 19546, 2760, 1618.3377448385388, 8546.878244274809, 19132, 58654, 8311), (79845, '2007-08-23 17:00:00', 2007, 8, 23, 17, 24862, 12573.493323709852, 3630, 3417.569409808811, 13651, 2807, 1568.31180518793, 8465.820992366413, 18013, 37981, 7287), (71592, '2006-08-02 18:00:00', 2006, 8, 2, 18, 24842, 12708.983038614218, 3612, 3459.7152950955942, 19170, 2995, 1618.3377448385388, 8546.878244274809, 23411, 61610, 8694), (79844, '2007-08-23 16:00:00', 2007, 8, 23, 16, 24828, 12559.719956694336, 3633, 3395.002493765586, 13592, 2814, 1533.0010587612494, 8441.172137404581, 20345, 37873, 7231), (71591, '2006-08-02 17:00:00', 2006, 8, 2, 17, 24811, 12573.493323709852, 3644, 3417.569409808811, 19276, 3035, 1568.31180518793, 8465.820992366413, 23395, 62009, 8734), (71590, '2006-08-02 16:00:00', 2006, 8, 2, 16, 24741, 12559.719956694336, 3618, 3395.002493765586, 19156, 3023, 1533.0010587612494, 8441.172137404581, 23208, 61909, 8702), (154366, '2015-02-20 08:00:00', 2015, 2, 20, 8, 24739, 13917, 2985, 4750, 21651, 2200, 3490, 10435, 10807.087729039422, 49354, 9594), (80178, '2007-08-09 14:00:00', 2007, 8, 9, 14, 24736, 12438.949115842655, 3664, 3373.998753117207, 18884, 2621, 1518.4955002646902, 8499.297328244274, 18549, 52003, 7663), (71615, '2006-08-01 17:00:00', 2006, 8, 1, 17, 24712, 12573.493323709852, 3693, 3417.569409808811, 18904, 3000, 1568.31180518793, 8465.820992366413, 23631, 61643, 8703), (71613, '2006-08-01 15:00:00', 2006, 8, 1, 15, 24711, 12540.006495849871, 3657, 3385.237738985869, 18678, 2961, 1521.1561672842774, 8473.375954198473, 23355, 61004, 8595), (102631, '2009-01-16 08:00:00', 2009, 1, 16, 8, 24703, 10578.081198123422, 3053, 3021.865752285952, 17904, 2017, 1454.3372154579142, 7633.824045801527, 14404, 45470, 8458), (80182, '2007-08-09 18:00:00', 2007, 8, 9, 18, 24696, 12708.983038614218, 3515, 3459.7152950955942, 17363, 2041, 1618.3377448385388, 8546.878244274809, 19212, 48403, 7241)]\n"
          ]
        }
      ]
    },
    {
      "cell_type": "code",
      "source": [
        "if __name__==\"__main__\":\n",
        "  countRows('Year')"
      ],
      "metadata": {
        "colab": {
          "base_uri": "https://localhost:8080/"
        },
        "id": "g5CCiScyLXEb",
        "outputId": "aa9f814e-aa70-4915-8a19-5d1c06ff9332"
      },
      "execution_count": null,
      "outputs": [
        {
          "output_type": "stream",
          "name": "stdout",
          "text": [
            "[(109712,)]\n"
          ]
        }
      ]
    },
    {
      "cell_type": "code",
      "source": [
        "if __name__==\"__main__\":\n",
        "  delete()"
      ],
      "metadata": {
        "colab": {
          "base_uri": "https://localhost:8080/"
        },
        "id": "siOZrratOT36",
        "outputId": "864042fa-edf1-4795-b3f0-1a548ba53fe6"
      },
      "execution_count": null,
      "outputs": [
        {
          "output_type": "stream",
          "name": "stdout",
          "text": [
            "registro borrado\n"
          ]
        }
      ]
    },
    {
      "cell_type": "code",
      "source": [
        "if __name__==\"__main__\":\n",
        "  countRows('Year')"
      ],
      "metadata": {
        "colab": {
          "base_uri": "https://localhost:8080/"
        },
        "id": "ckuBQVg_PNp6",
        "outputId": "9833ca65-788e-4ad3-eb47-d6554c488072"
      },
      "execution_count": null,
      "outputs": [
        {
          "output_type": "stream",
          "name": "stdout",
          "text": [
            "[(101552,)]\n"
          ]
        }
      ]
    }
  ]
}